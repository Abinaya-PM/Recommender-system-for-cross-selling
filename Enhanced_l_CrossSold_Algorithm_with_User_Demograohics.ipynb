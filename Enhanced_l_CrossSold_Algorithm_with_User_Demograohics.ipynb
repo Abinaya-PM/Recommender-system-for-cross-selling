{
  "cells": [
    {
      "cell_type": "code",
      "execution_count": null,
      "id": "v84wX-hE5Uqy",
      "metadata": {
        "colab": {
          "base_uri": "https://localhost:8080/"
        },
        "id": "v84wX-hE5Uqy",
        "outputId": "5e1cbcc1-3e50-4f02-987b-469dc846b0b6"
      },
      "outputs": [
        {
          "name": "stdout",
          "output_type": "stream",
          "text": [
            "Drive already mounted at /content/drive; to attempt to forcibly remount, call drive.mount(\"/content/drive\", force_remount=True).\n"
          ]
        }
      ],
      "source": [
        "# from google.colab import drive\n",
        "# drive.mount('/content/drive')"
      ]
    },
    {
      "cell_type": "code",
      "execution_count": null,
      "id": "419285b1",
      "metadata": {
        "id": "419285b1"
      },
      "outputs": [],
      "source": [
        "# Import necessary libraries\n",
        "import pandas as pd"
      ]
    },
    {
      "cell_type": "code",
      "execution_count": null,
      "id": "984c719c",
      "metadata": {
        "id": "984c719c"
      },
      "outputs": [],
      "source": [
        "# Load your dataset\n",
        "data = pd.read_csv('/content/drive/MyDrive/project/integrated_data.csv')"
      ]
    },
    {
      "cell_type": "code",
      "execution_count": null,
      "id": "368c11f5",
      "metadata": {
        "colab": {
          "base_uri": "https://localhost:8080/"
        },
        "id": "368c11f5",
        "outputId": "10b9f566-3da5-4554-ba5a-5ecb66e49b01"
      },
      "outputs": [
        {
          "name": "stdout",
          "output_type": "stream",
          "text": [
            "<class 'pandas.core.frame.DataFrame'>\n",
            "RangeIndex: 56046 entries, 0 to 56045\n",
            "Data columns (total 36 columns):\n",
            " #   Column                 Non-Null Count  Dtype  \n",
            "---  ------                 --------------  -----  \n",
            " 0   OrderDate              56046 non-null  object \n",
            " 1   StockDate              56046 non-null  object \n",
            " 2   OrderNumber            56046 non-null  object \n",
            " 3   ProductKey             56046 non-null  int64  \n",
            " 4   CustomerKey            56046 non-null  int64  \n",
            " 5   TerritoryKey           56046 non-null  int64  \n",
            " 6   OrderLineItem          56046 non-null  int64  \n",
            " 7   OrderQuantity          56046 non-null  int64  \n",
            " 8   Prefix                 55666 non-null  object \n",
            " 9   FirstName              56046 non-null  object \n",
            " 10  LastName               56046 non-null  object \n",
            " 11  BirthDate              56046 non-null  object \n",
            " 12  MaritalStatus          56046 non-null  object \n",
            " 13  Gender                 55666 non-null  object \n",
            " 14  EmailAddress           56046 non-null  object \n",
            " 15  AnnualIncome           56046 non-null  object \n",
            " 16  TotalChildren          56046 non-null  int64  \n",
            " 17  EducationLevel         56046 non-null  object \n",
            " 18  Occupation             56046 non-null  object \n",
            " 19  HomeOwner              56046 non-null  object \n",
            " 20  ProductSubcategoryKey  56046 non-null  int64  \n",
            " 21  ProductSKU             56046 non-null  object \n",
            " 22  ProductName            56046 non-null  object \n",
            " 23  ModelName              56046 non-null  object \n",
            " 24  ProductDescription     56046 non-null  object \n",
            " 25  ProductColor           29168 non-null  object \n",
            " 26  ProductSize            56046 non-null  object \n",
            " 27  ProductStyle           56046 non-null  object \n",
            " 28  ProductCost            56046 non-null  float64\n",
            " 29  ProductPrice           56046 non-null  float64\n",
            " 30  SubcategoryName        56046 non-null  object \n",
            " 31  ProductCategoryKey     56046 non-null  int64  \n",
            " 32  CategoryName           56046 non-null  object \n",
            " 33  Region                 56046 non-null  object \n",
            " 34  Country                56046 non-null  object \n",
            " 35  Continent              56046 non-null  object \n",
            "dtypes: float64(2), int64(8), object(26)\n",
            "memory usage: 15.4+ MB\n"
          ]
        }
      ],
      "source": [
        "data.info()"
      ]
    },
    {
      "cell_type": "code",
      "execution_count": null,
      "id": "49a6ea8d",
      "metadata": {
        "colab": {
          "base_uri": "https://localhost:8080/"
        },
        "id": "49a6ea8d",
        "outputId": "ea11f401-a708-413f-8348-d8841c11dbd3"
      },
      "outputs": [
        {
          "data": {
            "text/plain": [
              "OrderDate                    0\n",
              "StockDate                    0\n",
              "OrderNumber                  0\n",
              "ProductKey                   0\n",
              "CustomerKey                  0\n",
              "TerritoryKey                 0\n",
              "OrderLineItem                0\n",
              "OrderQuantity                0\n",
              "Prefix                     380\n",
              "FirstName                    0\n",
              "LastName                     0\n",
              "BirthDate                    0\n",
              "MaritalStatus                0\n",
              "Gender                     380\n",
              "EmailAddress                 0\n",
              "AnnualIncome                 0\n",
              "TotalChildren                0\n",
              "EducationLevel               0\n",
              "Occupation                   0\n",
              "HomeOwner                    0\n",
              "ProductSubcategoryKey        0\n",
              "ProductSKU                   0\n",
              "ProductName                  0\n",
              "ModelName                    0\n",
              "ProductDescription           0\n",
              "ProductColor             26878\n",
              "ProductSize                  0\n",
              "ProductStyle                 0\n",
              "ProductCost                  0\n",
              "ProductPrice                 0\n",
              "SubcategoryName              0\n",
              "ProductCategoryKey           0\n",
              "CategoryName                 0\n",
              "Region                       0\n",
              "Country                      0\n",
              "Continent                    0\n",
              "dtype: int64"
            ]
          },
          "execution_count": 6,
          "metadata": {},
          "output_type": "execute_result"
        }
      ],
      "source": [
        "#Handle Missing Values\n",
        "data.isnull().sum()"
      ]
    },
    {
      "cell_type": "code",
      "execution_count": null,
      "id": "e9ff134b",
      "metadata": {
        "id": "e9ff134b"
      },
      "outputs": [],
      "source": [
        "import pandas as pd\n",
        "import numpy as np\n",
        "from sklearn.metrics.pairwise import cosine_similarity\n",
        "from sklearn.cluster import AgglomerativeClustering"
      ]
    },
    {
      "cell_type": "code",
      "execution_count": null,
      "id": "a027c753",
      "metadata": {
        "id": "a027c753"
      },
      "outputs": [],
      "source": [
        "#POS Matrix\n",
        "def create_POS_matrix(data, users, products):\n",
        "    POS_matrix = pd.pivot_table(data, values='OrderQuantity', index='CustomerKey', columns='ProductKey', fill_value=0)\n",
        "    return POS_matrix"
      ]
    },
    {
      "cell_type": "code",
      "execution_count": null,
      "id": "3b7d6ff9",
      "metadata": {
        "colab": {
          "base_uri": "https://localhost:8080/"
        },
        "id": "3b7d6ff9",
        "outputId": "03d3703b-13d5-4545-b897-fcbaeaa77809"
      },
      "outputs": [
        {
          "name": "stdout",
          "output_type": "stream",
          "text": [
            "ProductKey   214  215  220  223  226  229  232  235  310  311  ...  594  595  \\\n",
            "CustomerKey                                                    ...             \n",
            "11000          1    0    0  0.0    0    0    0    0    0    0  ...    0    0   \n",
            "11001          0    1    0  2.0    0    0    0    0    0    0  ...    0    0   \n",
            "11002          0    0    1  0.0    0    0    0    0    0    0  ...    0    0   \n",
            "11003          0    0    0  2.0    0    0    0    0    0    0  ...    0    0   \n",
            "11004          1    1    0  0.0    0    0    0    0    0    0  ...    0    0   \n",
            "...          ...  ...  ...  ...  ...  ...  ...  ...  ...  ...  ...  ...  ...   \n",
            "29479          0    0    0  0.0    0    0    0    0    0    0  ...    0    0   \n",
            "29480          0    1    0  3.0    0    0    0    0    0    0  ...    0    0   \n",
            "29481          0    0    0  0.0    0    0    0    0    0    0  ...    0    0   \n",
            "29482          0    0    0  0.0    0    0    0    0    0    0  ...    0    0   \n",
            "29483          0    0    0  0.0    0    0    0    0    0    0  ...    0    0   \n",
            "\n",
            "ProductKey   596  597  598  599  600  604  605  606  \n",
            "CustomerKey                                          \n",
            "11000          0    0    0    0    0    0    0    0  \n",
            "11001          0    0    0    0    0    1    0    0  \n",
            "11002          0    0    0    0    0    0    0    0  \n",
            "11003          0    0    0    0    0    0    0    0  \n",
            "11004          0    0    0    0    0    0    0    0  \n",
            "...          ...  ...  ...  ...  ...  ...  ...  ...  \n",
            "29479          0    0    0    0    0    0    0    0  \n",
            "29480          0    0    0    0    0    0    0    0  \n",
            "29481          0    0    0    0    0    0    0    0  \n",
            "29482          0    0    0    0    0    0    0    0  \n",
            "29483          0    0    0    0    0    0    0    0  \n",
            "\n",
            "[17416 rows x 130 columns]\n"
          ]
        }
      ],
      "source": [
        "# Define your list of users and products\n",
        "users = 'CustomerKey'\n",
        "products = 'ProductKey'\n",
        "\n",
        "# Call the function to create the POS matrix\n",
        "POS_matrix = create_POS_matrix(data, users, products)\n",
        "\n",
        "# Print the POS matrix\n",
        "print(POS_matrix)"
      ]
    },
    {
      "cell_type": "code",
      "execution_count": null,
      "id": "cfe6d547",
      "metadata": {
        "colab": {
          "base_uri": "https://localhost:8080/"
        },
        "id": "cfe6d547",
        "outputId": "a57a4503-78b4-4326-ad6d-c300a536be81"
      },
      "outputs": [
        {
          "name": "stdout",
          "output_type": "stream",
          "text": [
            "Product Frequency Matrix (Normalized):\n",
            "\n",
            "ProductKey        214       215       220       223  226  229  232  235  310  \\\n",
            "CustomerKey                                                                    \n",
            "11000        0.100000  0.000000  0.000000  0.000000  0.0  0.0  0.0  0.0  0.0   \n",
            "11001        0.000000  0.076923  0.000000  0.153846  0.0  0.0  0.0  0.0  0.0   \n",
            "11002        0.000000  0.000000  0.333333  0.000000  0.0  0.0  0.0  0.0  0.0   \n",
            "11003        0.000000  0.000000  0.000000  0.181818  0.0  0.0  0.0  0.0  0.0   \n",
            "11004        0.166667  0.166667  0.000000  0.000000  0.0  0.0  0.0  0.0  0.0   \n",
            "...               ...       ...       ...       ...  ...  ...  ...  ...  ...   \n",
            "29479        0.000000  0.000000  0.000000  0.000000  0.0  0.0  0.0  0.0  0.0   \n",
            "29480        0.000000  0.111111  0.000000  0.333333  0.0  0.0  0.0  0.0  0.0   \n",
            "29481        0.000000  0.000000  0.000000  0.000000  0.0  0.0  0.0  0.0  0.0   \n",
            "29482        0.000000  0.000000  0.000000  0.000000  0.0  0.0  0.0  0.0  0.0   \n",
            "29483        0.000000  0.000000  0.000000  0.000000  0.0  0.0  0.0  0.0  0.0   \n",
            "\n",
            "ProductKey   311  ...  594  595  596  597  598  599  600       604  605  606  \n",
            "CustomerKey       ...                                                         \n",
            "11000        0.0  ...  0.0  0.0  0.0  0.0  0.0  0.0  0.0  0.000000  0.0  0.0  \n",
            "11001        0.0  ...  0.0  0.0  0.0  0.0  0.0  0.0  0.0  0.076923  0.0  0.0  \n",
            "11002        0.0  ...  0.0  0.0  0.0  0.0  0.0  0.0  0.0  0.000000  0.0  0.0  \n",
            "11003        0.0  ...  0.0  0.0  0.0  0.0  0.0  0.0  0.0  0.000000  0.0  0.0  \n",
            "11004        0.0  ...  0.0  0.0  0.0  0.0  0.0  0.0  0.0  0.000000  0.0  0.0  \n",
            "...          ...  ...  ...  ...  ...  ...  ...  ...  ...       ...  ...  ...  \n",
            "29479        0.0  ...  0.0  0.0  0.0  0.0  0.0  0.0  0.0  0.000000  0.0  0.0  \n",
            "29480        0.0  ...  0.0  0.0  0.0  0.0  0.0  0.0  0.0  0.000000  0.0  0.0  \n",
            "29481        0.0  ...  0.0  0.0  0.0  0.0  0.0  0.0  0.0  0.000000  0.0  0.0  \n",
            "29482        0.0  ...  0.0  0.0  0.0  0.0  0.0  0.0  0.0  0.000000  0.0  0.0  \n",
            "29483        0.0  ...  0.0  0.0  0.0  0.0  0.0  0.0  0.0  0.000000  0.0  0.0  \n",
            "\n",
            "[17416 rows x 130 columns]\n"
          ]
        }
      ],
      "source": [
        "import pandas as pd\n",
        "import numpy as np\n",
        "\n",
        "# Calculate Product Frequency Matrix (Normalized)\n",
        "PF_matrix = POS_matrix.div(POS_matrix.sum(axis=1), axis=0).fillna(0)\n",
        "\n",
        "# Print the Product Frequency Matrix\n",
        "print(\"Product Frequency Matrix (Normalized):\\n\")\n",
        "print(PF_matrix)"
      ]
    },
    {
      "cell_type": "code",
      "execution_count": null,
      "id": "2419f32d",
      "metadata": {
        "colab": {
          "base_uri": "https://localhost:8080/"
        },
        "id": "2419f32d",
        "outputId": "4955f96d-4285-4717-c3cc-86d8c939e04b"
      },
      "outputs": [
        {
          "name": "stdout",
          "output_type": "stream",
          "text": [
            "Inverse Transaction Frequency (ITF) Matrix:\n",
            "ProductKey       214       215       220       223       226      229  \\\n",
            "0           2.147385  2.221342  2.199351  2.157763  3.798998  3.76373   \n",
            "\n",
            "ProductKey       232      235       310       311  ...       594       595  \\\n",
            "0           3.722512  3.83025  4.635246  4.830671  ...  5.873324  5.893944   \n",
            "\n",
            "ProductKey       596       597       598       599       600       604  \\\n",
            "0           5.893944  5.893944  5.739793  5.757811  6.051573  3.890214   \n",
            "\n",
            "ProductKey       605      606  \n",
            "0           3.893027  3.81711  \n",
            "\n",
            "[1 rows x 130 columns]\n"
          ]
        }
      ],
      "source": [
        "import numpy as np\n",
        "import pandas as pd\n",
        "\n",
        "#Calculate ITF Matrix\n",
        "def calculate_ITF_matrix(POS_matrix):\n",
        "    # Calculate ITF (Inverse Transaction Frequency)\n",
        "    ITF_matrix = np.log(POS_matrix.shape[0] / (POS_matrix > 0).sum(axis=0))\n",
        "\n",
        "    # Convert ITF_matrix to a DataFrame with a single row and appropriate column names\n",
        "    ITF_df = pd.DataFrame([ITF_matrix.values], columns=POS_matrix.columns)\n",
        "\n",
        "    return ITF_df\n",
        "\n",
        "# Call the function to get the ITF matrix\n",
        "ITF_matrix = calculate_ITF_matrix(POS_matrix)\n",
        "\n",
        "# Print the ITF Matrix in the desired format\n",
        "print(\"Inverse Transaction Frequency (ITF) Matrix:\")\n",
        "print(ITF_matrix)"
      ]
    },
    {
      "cell_type": "code",
      "execution_count": null,
      "id": "9f1f0e34",
      "metadata": {
        "colab": {
          "base_uri": "https://localhost:8080/"
        },
        "id": "9f1f0e34",
        "outputId": "3d5c721f-0473-41f1-8041-d41b24c88fac"
      },
      "outputs": [
        {
          "name": "stdout",
          "output_type": "stream",
          "text": [
            "Product Frequency - Inverse Transaction Frequency (PF-ITF) Matrix:\n",
            "ProductKey        214       215       220       223  226  229  232  235  310  \\\n",
            "CustomerKey                                                                    \n",
            "11000        0.214739  0.000000  0.000000  0.000000  0.0  0.0  0.0  0.0  0.0   \n",
            "11001        0.000000  0.170872  0.000000  0.331964  0.0  0.0  0.0  0.0  0.0   \n",
            "11002        0.000000  0.000000  0.733117  0.000000  0.0  0.0  0.0  0.0  0.0   \n",
            "11003        0.000000  0.000000  0.000000  0.392321  0.0  0.0  0.0  0.0  0.0   \n",
            "11004        0.357898  0.370224  0.000000  0.000000  0.0  0.0  0.0  0.0  0.0   \n",
            "...               ...       ...       ...       ...  ...  ...  ...  ...  ...   \n",
            "29479        0.000000  0.000000  0.000000  0.000000  0.0  0.0  0.0  0.0  0.0   \n",
            "29480        0.000000  0.246816  0.000000  0.719254  0.0  0.0  0.0  0.0  0.0   \n",
            "29481        0.000000  0.000000  0.000000  0.000000  0.0  0.0  0.0  0.0  0.0   \n",
            "29482        0.000000  0.000000  0.000000  0.000000  0.0  0.0  0.0  0.0  0.0   \n",
            "29483        0.000000  0.000000  0.000000  0.000000  0.0  0.0  0.0  0.0  0.0   \n",
            "\n",
            "ProductKey   311  ...  594  595  596  597  598  599  600       604  605  606  \n",
            "CustomerKey       ...                                                         \n",
            "11000        0.0  ...  0.0  0.0  0.0  0.0  0.0  0.0  0.0  0.000000  0.0  0.0  \n",
            "11001        0.0  ...  0.0  0.0  0.0  0.0  0.0  0.0  0.0  0.299247  0.0  0.0  \n",
            "11002        0.0  ...  0.0  0.0  0.0  0.0  0.0  0.0  0.0  0.000000  0.0  0.0  \n",
            "11003        0.0  ...  0.0  0.0  0.0  0.0  0.0  0.0  0.0  0.000000  0.0  0.0  \n",
            "11004        0.0  ...  0.0  0.0  0.0  0.0  0.0  0.0  0.0  0.000000  0.0  0.0  \n",
            "...          ...  ...  ...  ...  ...  ...  ...  ...  ...       ...  ...  ...  \n",
            "29479        0.0  ...  0.0  0.0  0.0  0.0  0.0  0.0  0.0  0.000000  0.0  0.0  \n",
            "29480        0.0  ...  0.0  0.0  0.0  0.0  0.0  0.0  0.0  0.000000  0.0  0.0  \n",
            "29481        0.0  ...  0.0  0.0  0.0  0.0  0.0  0.0  0.0  0.000000  0.0  0.0  \n",
            "29482        0.0  ...  0.0  0.0  0.0  0.0  0.0  0.0  0.0  0.000000  0.0  0.0  \n",
            "29483        0.0  ...  0.0  0.0  0.0  0.0  0.0  0.0  0.0  0.000000  0.0  0.0  \n",
            "\n",
            "[17416 rows x 130 columns]\n"
          ]
        }
      ],
      "source": [
        "# Calculate PF-ITF Matrix (Element-wise multiplication of PF and ITF matrices)\n",
        "PF_ITF_matrix = PF_matrix * ITF_matrix.values\n",
        "\n",
        "# Print the PF-ITF Matrix\n",
        "print(\"Product Frequency - Inverse Transaction Frequency (PF-ITF) Matrix:\")\n",
        "print(PF_ITF_matrix)"
      ]
    },
    {
      "cell_type": "code",
      "execution_count": null,
      "id": "f6928b26",
      "metadata": {
        "colab": {
          "base_uri": "https://localhost:8080/"
        },
        "id": "f6928b26",
        "outputId": "e7444133-781f-4879-aab8-78fcff153a9f"
      },
      "outputs": [
        {
          "name": "stdout",
          "output_type": "stream",
          "text": [
            "Transpose of Product Frequency - Inverse Transaction Frequency (PF-ITF) Matrix:\n",
            "CustomerKey     11000     11001     11002     11003     11004  11005  \\\n",
            "ProductKey                                                             \n",
            "214          0.214739  0.000000  0.000000  0.000000  0.357898    0.0   \n",
            "215          0.000000  0.170872  0.000000  0.000000  0.370224    0.0   \n",
            "220          0.000000  0.000000  0.733117  0.000000  0.000000    0.0   \n",
            "223          0.000000  0.331964  0.000000  0.392321  0.000000    0.0   \n",
            "226          0.000000  0.000000  0.000000  0.000000  0.000000    0.0   \n",
            "...               ...       ...       ...       ...       ...    ...   \n",
            "599          0.000000  0.000000  0.000000  0.000000  0.000000    0.0   \n",
            "600          0.000000  0.000000  0.000000  0.000000  0.000000    0.0   \n",
            "604          0.000000  0.299247  0.000000  0.000000  0.000000    0.0   \n",
            "605          0.000000  0.000000  0.000000  0.000000  0.000000    0.0   \n",
            "606          0.000000  0.000000  0.000000  0.000000  0.000000    0.0   \n",
            "\n",
            "CustomerKey     11007     11008     11009     11010  ...  29472     29473  \\\n",
            "ProductKey                                           ...                    \n",
            "214          0.238598  0.238598  0.000000  0.000000  ...    0.0  1.073693   \n",
            "215          0.000000  0.000000  0.444268  0.000000  ...    0.0  0.000000   \n",
            "220          0.244372  0.000000  0.000000  0.000000  ...    0.0  0.000000   \n",
            "223          0.000000  0.000000  0.000000  1.294658  ...    0.0  0.000000   \n",
            "226          0.000000  0.000000  0.000000  0.000000  ...    0.0  0.000000   \n",
            "...               ...       ...       ...       ...  ...    ...       ...   \n",
            "599          0.000000  0.000000  0.000000  0.000000  ...    0.0  0.000000   \n",
            "600          0.000000  0.000000  0.000000  0.000000  ...    0.0  0.000000   \n",
            "604          0.000000  0.000000  0.000000  0.000000  ...    0.0  0.000000   \n",
            "605          0.000000  0.000000  0.000000  0.000000  ...    0.0  0.000000   \n",
            "606          0.000000  0.000000  0.000000  0.000000  ...    0.0  0.000000   \n",
            "\n",
            "CustomerKey  29476     29477  29478  29479     29480  29481  29482  29483  \n",
            "ProductKey                                                                 \n",
            "214            0.0  0.000000    0.0    0.0  0.000000    0.0    0.0    0.0  \n",
            "215            0.0  0.000000    0.0    0.0  0.246816    0.0    0.0    0.0  \n",
            "220            0.0  0.549838    0.0    0.0  0.000000    0.0    0.0    0.0  \n",
            "223            0.0  1.078882    0.0    0.0  0.719254    0.0    0.0    0.0  \n",
            "226            0.0  0.000000    0.0    0.0  0.000000    0.0    0.0    0.0  \n",
            "...            ...       ...    ...    ...       ...    ...    ...    ...  \n",
            "599            0.0  0.000000    0.0    0.0  0.000000    0.0    0.0    0.0  \n",
            "600            0.0  0.000000    0.0    0.0  0.000000    0.0    0.0    0.0  \n",
            "604            0.0  0.000000    0.0    0.0  0.000000    0.0    0.0    0.0  \n",
            "605            0.0  0.000000    0.0    0.0  0.000000    0.0    0.0    0.0  \n",
            "606            0.0  0.000000    0.0    0.0  0.000000    0.0    0.0    0.0  \n",
            "\n",
            "[130 rows x 17416 columns]\n"
          ]
        }
      ],
      "source": [
        "PF_ITF_transpose = PF_ITF_matrix.T\n",
        "\n",
        "# Print the transpose of PF-ITF Matrix\n",
        "print(\"Transpose of Product Frequency - Inverse Transaction Frequency (PF-ITF) Matrix:\")\n",
        "print(PF_ITF_transpose)"
      ]
    },
    {
      "cell_type": "code",
      "execution_count": null,
      "id": "5dedb94f",
      "metadata": {
        "colab": {
          "base_uri": "https://localhost:8080/"
        },
        "id": "5dedb94f",
        "outputId": "842e6473-e412-4a83-f424-7864efff5b5e"
      },
      "outputs": [
        {
          "name": "stdout",
          "output_type": "stream",
          "text": [
            "Product Similarity Matrix:\n",
            "          214       215       220       223       226       229       232  \\\n",
            "214  1.000000  0.005287  0.006364  0.042843  0.023332  0.019041  0.023375   \n",
            "215  0.005287  1.000000  0.004883  0.043014  0.017051  0.023321  0.024155   \n",
            "220  0.006364  0.004883  1.000000  0.038264  0.021567  0.031719  0.028368   \n",
            "223  0.042843  0.043014  0.038264  1.000000  0.032499  0.041570  0.039308   \n",
            "226  0.023332  0.017051  0.021567  0.032499  1.000000  0.001277  0.001280   \n",
            "..        ...       ...       ...       ...       ...       ...       ...   \n",
            "599  0.009072  0.000767  0.008478  0.008340  0.004417  0.000000  0.001402   \n",
            "600  0.007992  0.002445  0.005424  0.009980  0.004617  0.000000  0.001465   \n",
            "604  0.033917  0.027440  0.023339  0.022278  0.003482  0.000530  0.004587   \n",
            "605  0.046018  0.034395  0.042175  0.020413  0.005957  0.003016  0.001596   \n",
            "606  0.036740  0.046078  0.021803  0.016897  0.003083  0.000376  0.001811   \n",
            "\n",
            "          235       310       311  ...       594       595       596  \\\n",
            "214  0.022527  0.011157  0.018387  ...  0.002640  0.003646  0.016818   \n",
            "215  0.016580  0.015417  0.012670  ...  0.003779  0.002179  0.012067   \n",
            "220  0.014677  0.015514  0.019961  ...  0.011896  0.004750  0.002995   \n",
            "223  0.031887  0.006964  0.006516  ...  0.004307  0.007869  0.021819   \n",
            "226  0.000407  0.005454  0.004500  ...  0.000000  0.004516  0.000000   \n",
            "..        ...       ...       ...  ...       ...       ...       ...   \n",
            "599  0.000000  0.001551  0.011217  ...  0.000000  0.000000  0.000000   \n",
            "600  0.000000  0.000000  0.002931  ...  0.000000  0.000000  0.000000   \n",
            "604  0.000396  0.009664  0.004874  ...  0.000000  0.000000  0.000000   \n",
            "605  0.000341  0.005105  0.012579  ...  0.000000  0.000000  0.000000   \n",
            "606  0.000196  0.000749  0.004146  ...  0.000000  0.000000  0.000000   \n",
            "\n",
            "          597       598       599       600       604       605       606  \n",
            "214  0.001816  0.004259  0.009072  0.007992  0.033917  0.046018  0.036740  \n",
            "215  0.001921  0.009039  0.000767  0.002445  0.027440  0.034395  0.046078  \n",
            "220  0.010202  0.006640  0.008478  0.005424  0.023339  0.042175  0.021803  \n",
            "223  0.006702  0.021071  0.008340  0.009980  0.022278  0.020413  0.016897  \n",
            "226  0.001806  0.000000  0.004417  0.004617  0.003482  0.005957  0.003083  \n",
            "..        ...       ...       ...       ...       ...       ...       ...  \n",
            "599  0.000000  0.000000  1.000000  0.000000  0.000108  0.000000  0.000000  \n",
            "600  0.000000  0.000000  0.000000  1.000000  0.000000  0.000128  0.000000  \n",
            "604  0.000000  0.000000  0.000108  0.000000  1.000000  0.000000  0.000000  \n",
            "605  0.000000  0.000000  0.000000  0.000128  0.000000  1.000000  0.000000  \n",
            "606  0.000000  0.000000  0.000000  0.000000  0.000000  0.000000  1.000000  \n",
            "\n",
            "[130 rows x 130 columns]\n"
          ]
        }
      ],
      "source": [
        "import pandas as pd\n",
        "from sklearn.metrics.pairwise import cosine_similarity\n",
        "\n",
        "# Compute cosine similarity between products\n",
        "product_similarity_matrix = cosine_similarity(PF_ITF_transpose)\n",
        "\n",
        "# Get the ProductKeys as a list (assuming it's a pandas Series)\n",
        "product_keys = PF_ITF_transpose.index.tolist()\n",
        "\n",
        "# Create a DataFrame with the similarity matrix and set ProductKeys as row and column indices\n",
        "product_similarity_df = pd.DataFrame(product_similarity_matrix, index=product_keys, columns=product_keys)\n",
        "\n",
        "# product_similarity_matrix is now your n x n product similarity matrix\n",
        "print(\"Product Similarity Matrix:\")\n",
        "print(product_similarity_df)"
      ]
    },
    {
      "cell_type": "code",
      "execution_count": null,
      "id": "d90dfdfe",
      "metadata": {
        "colab": {
          "base_uri": "https://localhost:8080/"
        },
        "id": "d90dfdfe",
        "outputId": "58acb9a7-6d04-4138-bf19-4a4ba2b6c378"
      },
      "outputs": [
        {
          "name": "stdout",
          "output_type": "stream",
          "text": [
            "Profit Matrix (Price and Cost):\n",
            "            ProductPrice  ProductCost\n",
            "ProductKey                           \n",
            "214              13.0863      34.9900\n",
            "215              12.0278      33.6442\n",
            "220              12.0278      33.6442\n",
            "223               5.7052       8.6442\n",
            "226              31.7244      48.0673\n",
            "229              31.7244      48.0673\n",
            "232              31.7244      48.0673\n",
            "235              31.7244      48.0673\n",
            "310            2171.2942    3578.2700\n",
            "311            2171.2942    3578.2700\n",
            "312            2171.2942    3578.2700\n",
            "313            2171.2942    3578.2700\n",
            "314            2171.2942    3578.2700\n",
            "320             413.1463     699.0982\n",
            "322             413.1463     699.0982\n",
            "324             413.1463     699.0982\n",
            "326             413.1463     699.0982\n",
            "328             413.1463     699.0982\n",
            "330             413.1463     699.0982\n",
            "332             413.1463     699.0982\n",
            "334             413.1463     699.0982\n",
            "336             413.1463     699.0982\n",
            "338             413.1463     699.0982\n",
            "340             413.1463     699.0982\n",
            "342             413.1463     699.0982\n",
            "344            1912.1544    3399.9900\n",
            "345            1912.1544    3399.9900\n",
            "346            1912.1544    3399.9900\n",
            "347            1912.1544    3399.9900\n",
            "348            1898.0944    3374.9900\n",
            "349            1898.0944    3374.9900\n",
            "350            1898.0944    3374.9900\n",
            "351            1898.0944    3374.9900\n",
            "352            1117.8559    2071.4196\n",
            "354            1117.8559    2071.4196\n",
            "356            1117.8559    2071.4196\n",
            "358            1105.8100    2049.0982\n",
            "360            1105.8100    2049.0982\n",
            "362            1105.8100    2049.0982\n",
            "368            1518.7864    2443.3500\n",
            "369            1518.7864    2443.3500\n",
            "370            1518.7864    2443.3500\n",
            "371            1320.6838    2181.5625\n",
            "373            1320.6838    2181.5625\n",
            "375            1320.6838    2181.5625\n",
            "377            1320.6838    2181.5625\n",
            "379            1320.6838    2181.5625\n",
            "381             605.6492    1000.4375\n",
            "383             605.6492    1000.4375\n",
            "385             605.6492    1000.4375\n",
            "387             605.6492    1000.4375\n",
            "389             605.6492    1000.4375\n",
            "462               9.7136      23.5481\n",
            "464               9.7136      23.5481\n",
            "466               9.7136      23.5481\n",
            "471              23.7490      63.5000\n",
            "472              23.7490      63.5000\n",
            "473              23.7490      63.5000\n",
            "474              26.1763      69.9900\n",
            "475              26.1763      69.9900\n",
            "476              26.1763      69.9900\n",
            "477               1.8663       4.9900\n",
            "478               3.7363       9.9900\n",
            "479               3.3623       8.9900\n",
            "480               0.8565       2.2900\n",
            "481               3.3623       8.9900\n",
            "482               3.3623       8.9900\n",
            "483              44.8800     120.0000\n",
            "484               2.9733       7.9500\n",
            "485               8.2205      21.9800\n",
            "486              59.4660     159.0000\n",
            "487              20.5663      54.9900\n",
            "488              41.5723      53.9900\n",
            "489              41.5723      53.9900\n",
            "490              41.5723      53.9900\n",
            "491              41.5723      53.9900\n",
            "528               1.8663       4.9900\n",
            "529               1.4923       3.9900\n",
            "530               1.8663       4.9900\n",
            "535               9.3463      24.9900\n",
            "536              11.2163      29.9900\n",
            "537              13.0900      35.0000\n",
            "538               8.0373      21.4900\n",
            "539               9.3463      24.9900\n",
            "540              12.1924      32.6000\n",
            "541              10.8423      28.9900\n",
            "560             755.1508    1214.8500\n",
            "561            1481.9379    2384.0700\n",
            "562            1481.9379    2384.0700\n",
            "563            1481.9379    2384.0700\n",
            "564            1481.9379    2384.0700\n",
            "565             461.4448     742.3500\n",
            "566             461.4448     742.3500\n",
            "567             461.4448     742.3500\n",
            "568             461.4448     742.3500\n",
            "569             461.4448     742.3500\n",
            "570             461.4448     742.3500\n",
            "571             461.4448     742.3500\n",
            "572             461.4448     742.3500\n",
            "573            1481.9379    2384.0700\n",
            "574            1481.9379    2384.0700\n",
            "575            1481.9379    2384.0700\n",
            "576            1481.9379    2384.0700\n",
            "577             755.1508    1214.8500\n",
            "578             755.1508    1214.8500\n",
            "579             755.1508    1214.8500\n",
            "580            1082.5100    1700.9900\n",
            "581            1082.5100    1700.9900\n",
            "582            1082.5100    1700.9900\n",
            "583            1082.5100    1700.9900\n",
            "584             343.6496     539.9900\n",
            "585             461.4448     742.3500\n",
            "586             461.4448     742.3500\n",
            "587             419.7784     769.4900\n",
            "588             419.7784     769.4900\n",
            "589             419.7784     769.4900\n",
            "590             419.7784     769.4900\n",
            "591             308.2179     564.9900\n",
            "592             308.2179     564.9900\n",
            "593             308.2179     564.9900\n",
            "594             308.2179     564.9900\n",
            "595             308.2179     564.9900\n",
            "596             294.5797     539.9900\n",
            "597             294.5797     539.9900\n",
            "598             294.5797     539.9900\n",
            "599             294.5797     539.9900\n",
            "600             294.5797     539.9900\n",
            "604             343.6496     539.9900\n",
            "605             343.6496     539.9900\n",
            "606             343.6496     539.9900\n"
          ]
        }
      ],
      "source": [
        "# Extract Price and Cost columns from the dataset\n",
        "profit_data = data[['ProductKey', 'ProductPrice', 'ProductCost']]\n",
        "\n",
        "# Pivot the data to create a matrix with ProductKey as index, ProductPrice and ProductCost as columns\n",
        "profit_matrix = profit_data.pivot_table(index='ProductKey', values=['ProductPrice', 'ProductCost'], aggfunc='first')\n",
        "\n",
        "# Reset the index to have ProductKey as a column\n",
        "profit_matrix.reset_index(inplace=True)\n",
        "\n",
        "# Rename columns for clarity\n",
        "profit_matrix.columns = [ 'ProductKey', 'ProductPrice', 'ProductCost']\n",
        "\n",
        "# Print the profit matrix\n",
        "print(\"Profit Matrix (Price and Cost):\")\n",
        "print(profit_matrix.to_string(index=True))"
      ]
    },
    {
      "cell_type": "code",
      "execution_count": null,
      "id": "8e7__4OokIaa",
      "metadata": {
        "colab": {
          "base_uri": "https://localhost:8080/"
        },
        "id": "8e7__4OokIaa",
        "outputId": "c5ee5e71-910b-441e-bb10-af4b3272f039"
      },
      "outputs": [
        {
          "data": {
            "text/plain": [
              "pandas.core.frame.DataFrame"
            ]
          },
          "execution_count": 16,
          "metadata": {},
          "output_type": "execute_result"
        }
      ],
      "source": [
        "type(profit_matrix)"
      ]
    },
    {
      "cell_type": "code",
      "execution_count": null,
      "id": "5df30495",
      "metadata": {
        "id": "5df30495"
      },
      "outputs": [],
      "source": [
        "import numpy as np\n",
        "import pandas as pd\n",
        "\n",
        "# Assuming profit_df contains your profit matrix\n",
        "product_prices = profit_matrix['ProductCost'].values\n",
        "product_costs = profit_matrix['ProductPrice'].values\n",
        "\n",
        "# Calculate the number of products\n",
        "num_products = len(product_prices)\n",
        "\n",
        "# Compute the profit component matrix\n",
        "profit_component_matrix = np.zeros((num_products, num_products))\n",
        "\n",
        "for i in range(num_products):\n",
        "    for j in range(num_products):\n",
        "        ci = product_costs[i]\n",
        "        cj = product_costs[j]\n",
        "        pi = product_prices[i]\n",
        "        pj = product_prices[j]\n",
        "\n",
        "        # Compute profit component and store it in the matrix\n",
        "        profit_component_matrix[i, j] = 1 - (ci + cj) / (pi + pj)\n",
        "\n",
        "# Convert the NumPy array to a DataFrame with index and columns\n",
        "profit_component_df = pd.DataFrame(profit_component_matrix)\n",
        "print(profit_component_df)"
      ]
    },
    {
      "cell_type": "code",
      "execution_count": null,
      "id": "2b2f98e2",
      "metadata": {
        "colab": {
          "base_uri": "https://localhost:8080/"
        },
        "id": "2b2f98e2",
        "outputId": "5f58ad6b-cae2-42f2-c1f5-d84318b0da51"
      },
      "outputs": [
        {
          "name": "stdout",
          "output_type": "stream",
          "text": [
            "Int64Index([  989,  1136,  2085,  2096,  2627,  2696,  3373,  4004,  4257,\n",
            "             4259,\n",
            "            ...\n",
            "            54945, 55045, 55310, 55658, 55660, 55728, 55827, 55844, 55898,\n",
            "            55928],\n",
            "           dtype='int64', length=380)\n"
          ]
        }
      ],
      "source": [
        "import pandas as pd\n",
        "\n",
        "# Find the indices of missing values in the 'Gender' column\n",
        "missing_gender_indices = data[data['Gender'].isnull()].index\n",
        "\n",
        "# 'missing_gender_indices' now contains the indices where 'Gender' column has missing values\n",
        "print(missing_gender_indices)"
      ]
    },
    {
      "cell_type": "code",
      "execution_count": null,
      "id": "3dc7246b",
      "metadata": {
        "colab": {
          "base_uri": "https://localhost:8080/"
        },
        "id": "3dc7246b",
        "outputId": "7cedc5ba-19b6-4ec8-f09a-c825188c1afe"
      },
      "outputs": [
        {
          "name": "stdout",
          "output_type": "stream",
          "text": [
            "       Age MaritalStatus Gender AnnualIncome        Country     Region  \\\n",
            "0       65             M      M     $80,000   United States  Northwest   \n",
            "1       70             M      M     $30,000   United States  Northwest   \n",
            "2       49             M      F     $60,000   United States  Northwest   \n",
            "3       43             M      F     $40,000   United States  Northwest   \n",
            "4       78             M      M     $60,000   United States  Northwest   \n",
            "...    ...           ...    ...          ...            ...        ...   \n",
            "56041   75             M      F     $40,000   United States  Northeast   \n",
            "56042   61             S      M     $70,000   United States  Northeast   \n",
            "56043   75             M      F     $40,000   United States  Northeast   \n",
            "56044   61             S      M     $70,000   United States  Northeast   \n",
            "56045   64             M      M     $60,000   United States  Northeast   \n",
            "\n",
            "           Continent  CustomerKey  MaritalStatus_M  MaritalStatus_S  ...  \\\n",
            "0      North America        14657                1                0  ...   \n",
            "1      North America        14734                1                0  ...   \n",
            "2      North America        15189                1                0  ...   \n",
            "3      North America        15252                1                0  ...   \n",
            "4      North America        15311                1                0  ...   \n",
            "...              ...          ...              ...              ...  ...   \n",
            "56041  North America        15324                1                0  ...   \n",
            "56042  North America        12956                0                1  ...   \n",
            "56043  North America        15324                1                0  ...   \n",
            "56044  North America        12956                0                1  ...   \n",
            "56045  North America        11732                1                0  ...   \n",
            "\n",
            "       Region_Northeast  Region_Northwest  Region_Southeast  Region_Southwest  \\\n",
            "0                     0                 1                 0                 0   \n",
            "1                     0                 1                 0                 0   \n",
            "2                     0                 1                 0                 0   \n",
            "3                     0                 1                 0                 0   \n",
            "4                     0                 1                 0                 0   \n",
            "...                 ...               ...               ...               ...   \n",
            "56041                 1                 0                 0                 0   \n",
            "56042                 1                 0                 0                 0   \n",
            "56043                 1                 0                 0                 0   \n",
            "56044                 1                 0                 0                 0   \n",
            "56045                 1                 0                 0                 0   \n",
            "\n",
            "       Region_United Kingdom  Continent_Europe  Continent_North America  \\\n",
            "0                          0                 0                        1   \n",
            "1                          0                 0                        1   \n",
            "2                          0                 0                        1   \n",
            "3                          0                 0                        1   \n",
            "4                          0                 0                        1   \n",
            "...                      ...               ...                      ...   \n",
            "56041                      0                 0                        1   \n",
            "56042                      0                 0                        1   \n",
            "56043                      0                 0                        1   \n",
            "56044                      0                 0                        1   \n",
            "56045                      0                 0                        1   \n",
            "\n",
            "       Continent_Pacific  OrderFrequency  TotalPurchaseAmount  \n",
            "0                      0               4            2826.1420  \n",
            "1                      0               3            1733.1799  \n",
            "2                      0               2            1468.5882  \n",
            "3                      0               2            1468.5882  \n",
            "4                      0               3            1538.5782  \n",
            "...                  ...             ...                  ...  \n",
            "56041                  0               5              50.5942  \n",
            "56042                  0               5             105.8265  \n",
            "56043                  0               5              50.5942  \n",
            "56044                  0               5             105.8265  \n",
            "56045                  0               5             170.7784  \n",
            "\n",
            "[56046 rows x 33 columns]\n"
          ]
        }
      ],
      "source": [
        "import pandas as pd\n",
        "\n",
        "# Check for missing values in 'Gender' column and fill them with the mode\n",
        "data['Gender'] = data['Gender'].fillna(data['Gender'].mode()[0])\n",
        "\n",
        "# Convert 'BirthDate' to datetime and calculate 'Age'\n",
        "data['BirthDate'] = pd.to_datetime(data['BirthDate'])\n",
        "current_year = pd.Timestamp.now().year\n",
        "data['Age'] = current_year - data['BirthDate'].dt.year\n",
        "\n",
        "# Select the columns you want to use for one-hot encoding and customer matrix\n",
        "selected_columns = ['CustomerKey','MaritalStatus', 'Gender', 'Country', 'Region', 'Continent']\n",
        "features = ['Age', 'MaritalStatus', 'Gender', 'AnnualIncome', 'Country', 'Region', 'Continent']\n",
        "\n",
        "# Perform one-hot encoding for selected columns\n",
        "one_hot_encoded_data = pd.get_dummies(data[selected_columns])\n",
        "\n",
        "# Concatenate one-hot encoded columns with other features\n",
        "customer_matrix = pd.concat([data[features], one_hot_encoded_data], axis=1)\n",
        "\n",
        "# Calculate order frequency for each customer (assuming 'OrderDate' is the column containing order dates)\n",
        "data['OrderDate'] = pd.to_datetime(data['OrderDate'])\n",
        "order_frequency = data.groupby('CustomerKey')['OrderDate'].count().reset_index()\n",
        "order_frequency.columns = ['CustomerKey', 'OrderFrequency']\n",
        "\n",
        "# Calculate total purchase amount for each customer\n",
        "total_purchase_amount = data.groupby('CustomerKey')['ProductPrice'].sum().reset_index()\n",
        "total_purchase_amount.columns = ['CustomerKey', 'TotalPurchaseAmount']\n",
        "\n",
        "# Merge order frequency and total purchase amount with customer_matrix based on 'CustomerKey'\n",
        "customer_matrix = pd.merge(customer_matrix, order_frequency, on='CustomerKey', how='left')\n",
        "customer_matrix = pd.merge(customer_matrix, total_purchase_amount, on='CustomerKey', how='left')\n",
        "\n",
        "# Now, customer_matrix contains 'OrderFrequency' and 'TotalPurchaseAmount' columns\n",
        "print(customer_matrix)"
      ]
    },
    {
      "cell_type": "code",
      "execution_count": null,
      "id": "42a17398",
      "metadata": {
        "colab": {
          "base_uri": "https://localhost:8080/"
        },
        "id": "42a17398",
        "outputId": "6e86efdf-5b9e-4424-fc28-be8feb19b5c0"
      },
      "outputs": [
        {
          "name": "stdout",
          "output_type": "stream",
          "text": [
            "       Age MaritalStatus Gender AnnualIncome        Country     Region  \\\n",
            "0       65             M      M     $80,000   United States  Northwest   \n",
            "1       70             M      M     $30,000   United States  Northwest   \n",
            "2       49             M      F     $60,000   United States  Northwest   \n",
            "3       43             M      F     $40,000   United States  Northwest   \n",
            "4       78             M      M     $60,000   United States  Northwest   \n",
            "...    ...           ...    ...          ...            ...        ...   \n",
            "56022   75             M      F     $40,000   United States  Northeast   \n",
            "56023   64             M      M     $60,000   United States  Northeast   \n",
            "56024   61             S      M     $70,000   United States  Northeast   \n",
            "56027   46             S      M     $40,000   United States  Northeast   \n",
            "56032   66             M      M     $20,000   United States  Northeast   \n",
            "\n",
            "           Continent  CustomerKey  MaritalStatus_M  MaritalStatus_S  ...  \\\n",
            "0      North America        14657                1                0  ...   \n",
            "1      North America        14734                1                0  ...   \n",
            "2      North America        15189                1                0  ...   \n",
            "3      North America        15252                1                0  ...   \n",
            "4      North America        15311                1                0  ...   \n",
            "...              ...          ...              ...              ...  ...   \n",
            "56022  North America        15324                1                0  ...   \n",
            "56023  North America        11732                1                0  ...   \n",
            "56024  North America        12956                0                1  ...   \n",
            "56027  North America        21249                0                1  ...   \n",
            "56032  North America        27040                1                0  ...   \n",
            "\n",
            "       Region_Northeast  Region_Northwest  Region_Southeast  Region_Southwest  \\\n",
            "0                     0                 1                 0                 0   \n",
            "1                     0                 1                 0                 0   \n",
            "2                     0                 1                 0                 0   \n",
            "3                     0                 1                 0                 0   \n",
            "4                     0                 1                 0                 0   \n",
            "...                 ...               ...               ...               ...   \n",
            "56022                 1                 0                 0                 0   \n",
            "56023                 1                 0                 0                 0   \n",
            "56024                 1                 0                 0                 0   \n",
            "56027                 1                 0                 0                 0   \n",
            "56032                 1                 0                 0                 0   \n",
            "\n",
            "       Region_United Kingdom  Continent_Europe  Continent_North America  \\\n",
            "0                          0                 0                        1   \n",
            "1                          0                 0                        1   \n",
            "2                          0                 0                        1   \n",
            "3                          0                 0                        1   \n",
            "4                          0                 0                        1   \n",
            "...                      ...               ...                      ...   \n",
            "56022                      0                 0                        1   \n",
            "56023                      0                 0                        1   \n",
            "56024                      0                 0                        1   \n",
            "56027                      0                 0                        1   \n",
            "56032                      0                 0                        1   \n",
            "\n",
            "       Continent_Pacific  OrderFrequency  TotalPurchaseAmount  \n",
            "0                      0               4            2826.1420  \n",
            "1                      0               3            1733.1799  \n",
            "2                      0               2            1468.5882  \n",
            "3                      0               2            1468.5882  \n",
            "4                      0               3            1538.5782  \n",
            "...                  ...             ...                  ...  \n",
            "56022                  0               5              50.5942  \n",
            "56023                  0               5             170.7784  \n",
            "56024                  0               5             105.8265  \n",
            "56027                  0               3              69.9700  \n",
            "56032                  0               2               7.2800  \n",
            "\n",
            "[17416 rows x 33 columns]\n"
          ]
        }
      ],
      "source": [
        "import pandas as pd\n",
        "from sklearn.metrics.pairwise import cosine_similarity\n",
        "\n",
        "# Find unique customers based on 'CustomerKey'\n",
        "unique_customers = customer_matrix.drop_duplicates(subset=['CustomerKey'])\n",
        "\n",
        "print(unique_customers)"
      ]
    },
    {
      "cell_type": "code",
      "execution_count": null,
      "id": "bacaaae0",
      "metadata": {
        "colab": {
          "base_uri": "https://localhost:8080/"
        },
        "id": "bacaaae0",
        "outputId": "c69f51fc-16f8-4580-997b-bc1a503331e6"
      },
      "outputs": [
        {
          "name": "stdout",
          "output_type": "stream",
          "text": [
            "CustomerKey     14657     14734     15189     15252     15311     15409  \\\n",
            "CustomerKey                                                               \n",
            "14657        1.000000  0.999849  0.999946  0.999980  0.999617  0.999691   \n",
            "14734        0.999849  1.000000  0.999975  0.999938  0.999947  0.999972   \n",
            "15189        0.999946  0.999975  1.000000  0.999992  0.999850  0.999894   \n",
            "15252        0.999980  0.999938  0.999992  1.000000  0.999771  0.999827   \n",
            "15311        0.999617  0.999947  0.999850  0.999771  1.000000  0.999996   \n",
            "...               ...       ...       ...       ...       ...       ...   \n",
            "15324        0.577185  0.591269  0.585605  0.582300  0.599525  0.597303   \n",
            "11732        0.943846  0.949433  0.947205  0.945894  0.952607  0.951764   \n",
            "12956        0.876814  0.885017  0.881726  0.879802  0.889749  0.888488   \n",
            "21249        0.847225  0.856312  0.852664  0.850532  0.861570  0.860161   \n",
            "27040        0.132393  0.149595  0.142649  0.138612  0.159758  0.156988   \n",
            "\n",
            "CustomerKey     15502     15565     15840     15991  ...     11533     24442  \\\n",
            "CustomerKey                                          ...                       \n",
            "14657        0.999898  1.000000  0.999990  0.999998  ...  0.057644  0.760906   \n",
            "14734        0.999995  0.999850  0.999761  0.999882  ...  0.074980  0.772063   \n",
            "15189        0.999991  0.999947  0.999890  0.999965  ...  0.067999  0.767593   \n",
            "15252        0.999967  0.999980  0.999942  0.999991  ...  0.063929  0.764973   \n",
            "15311        0.999909  0.999620  0.999484  0.999672  ...  0.085232  0.778560   \n",
            "...               ...       ...       ...       ...  ...       ...       ...   \n",
            "15324        0.588751  0.577248  0.573537  0.578851  ...  0.847272  0.968532   \n",
            "11732        0.948452  0.943869  0.942360  0.944518  ...  0.383409  0.932160   \n",
            "12956        0.883575  0.876854  0.874656  0.877793  ...  0.529106  0.978448   \n",
            "21249        0.854712  0.847273  0.844842  0.848307  ...  0.577917  0.988715   \n",
            "27040        0.146497  0.132480  0.127965  0.134419  ...  0.996613  0.743601   \n",
            "\n",
            "CustomerKey     17120     27421     13145     15324     11732     12956  \\\n",
            "CustomerKey                                                               \n",
            "14657        0.999951  0.999913  1.000000  0.577185  0.943846  0.876814   \n",
            "14734        0.999970  0.999989  0.999840  0.591269  0.949433  0.885017   \n",
            "15189        0.999999  0.999995  0.999940  0.585605  0.947205  0.881726   \n",
            "15252        0.999993  0.999976  0.999976  0.582300  0.945894  0.879802   \n",
            "15311        0.999840  0.999892  0.999602  0.599525  0.952607  0.889749   \n",
            "...               ...       ...       ...       ...       ...       ...   \n",
            "15324        0.585160  0.587765  0.576793  1.000000  0.814489  0.898495   \n",
            "11732        0.947029  0.948053  0.943690  0.814489  1.000000  0.986392   \n",
            "12956        0.881477  0.882983  0.876588  0.898495  0.986392  1.000000   \n",
            "21249        0.852392  0.854067  0.846973  0.922472  0.975065  0.998234   \n",
            "27040        0.142113  0.145327  0.131901  0.885128  0.452046  0.591896   \n",
            "\n",
            "CustomerKey     21249     27040  \n",
            "CustomerKey                      \n",
            "14657        0.847225  0.132393  \n",
            "14734        0.856312  0.149595  \n",
            "15189        0.852664  0.142649  \n",
            "15252        0.850532  0.138612  \n",
            "15311        0.861570  0.159758  \n",
            "...               ...       ...  \n",
            "15324        0.922472  0.885128  \n",
            "11732        0.975065  0.452046  \n",
            "12956        0.998234  0.591896  \n",
            "21249        1.000000  0.638154  \n",
            "27040        0.638154  1.000000  \n",
            "\n",
            "[17416 rows x 17416 columns]\n"
          ]
        }
      ],
      "source": [
        "# Extract features for similarity calculation\n",
        "features_for_similarity = unique_customers[['Age', 'MaritalStatus_M', 'MaritalStatus_S', 'Gender_M', 'Gender_F', 'Country_Australia', 'Country_Canada', 'Country_France', 'Country_Germany', 'Country_United Kingdom', 'Country_United States', 'Region_Australia', 'Region_Canada', 'Region_Central', 'Region_France', 'Region_Germany', 'Region_Northeast', 'Region_Northwest', 'Region_Southeast', 'Region_Southwest', 'Region_United Kingdom', 'Continent_Europe', 'Continent_North America', 'Continent_Pacific', 'OrderFrequency', 'TotalPurchaseAmount']]\n",
        "\n",
        "# Compute cosine similarity between customers\n",
        "customer_similarity_matrix = cosine_similarity(features_for_similarity)\n",
        "\n",
        "# Create a DataFrame for the customer similarity matrix\n",
        "customer_similarity_df = pd.DataFrame(customer_similarity_matrix, index=unique_customers['CustomerKey'], columns=unique_customers['CustomerKey'])\n",
        "\n",
        "print(customer_similarity_df)"
      ]
    },
    {
      "cell_type": "code",
      "execution_count": null,
      "id": "f685b5d6",
      "metadata": {
        "colab": {
          "base_uri": "https://localhost:8080/"
        },
        "id": "f685b5d6",
        "outputId": "43590347-3b6b-4d64-84b9-a00c66d55db5"
      },
      "outputs": [
        {
          "name": "stdout",
          "output_type": "stream",
          "text": [
            "Index(['Age', 'MaritalStatus', 'Gender', 'AnnualIncome', 'Country', 'Region',\n",
            "       'Continent', 'CustomerKey', 'MaritalStatus_M', 'MaritalStatus_S',\n",
            "       'Gender_F', 'Gender_M', 'Country_Australia', 'Country_Canada',\n",
            "       'Country_France', 'Country_Germany', 'Country_United Kingdom',\n",
            "       'Country_United States', 'Region_Australia', 'Region_Canada',\n",
            "       'Region_Central', 'Region_France', 'Region_Germany', 'Region_Northeast',\n",
            "       'Region_Northwest', 'Region_Southeast', 'Region_Southwest',\n",
            "       'Region_United Kingdom', 'Continent_Europe', 'Continent_North America',\n",
            "       'Continent_Pacific', 'OrderFrequency', 'TotalPurchaseAmount'],\n",
            "      dtype='object')\n"
          ]
        }
      ],
      "source": [
        "print(unique_customers.columns)"
      ]
    },
    {
      "cell_type": "code",
      "execution_count": null,
      "id": "23af6b22",
      "metadata": {
        "id": "23af6b22"
      },
      "outputs": [],
      "source": [
        "import numpy as np\n",
        "import pandas as pd\n",
        "\n",
        "#Constants\n",
        "alpha = 0.7  # You can adjust this value according to your preference"
      ]
    },
    {
      "cell_type": "code",
      "execution_count": null,
      "id": "67324e92",
      "metadata": {
        "id": "67324e92"
      },
      "outputs": [],
      "source": [
        "# Calculate CSS Matrix\n",
        "num_products = len(product_similarity_df)\n",
        "num_users = len(customer_similarity_df)\n",
        "CSS_matrix = np.zeros((num_products, num_products))"
      ]
    },
    {
      "cell_type": "code",
      "execution_count": null,
      "id": "6461c5f0",
      "metadata": {
        "id": "6461c5f0"
      },
      "outputs": [],
      "source": [
        "for i in range(num_products):\n",
        "    for j in range(num_products):\n",
        "        max_CSSijuv = -np.inf\n",
        "        for u in range(num_users):  # Iterate through users\n",
        "            for v in range(num_users):\n",
        "                profit_component = profit_component_df.iloc[i, j]\n",
        "                delta_ij = product_similarity_df.iloc[i, j]\n",
        "                delta_uv = customer_similarity_df.iloc[u, v]\n",
        "\n",
        "                # Calculate CSSijuv\n",
        "                CSSijuv = alpha * profit_component + (1 - alpha) * delta_ij * delta_uv\n",
        "\n",
        "                # Update max_CSSijuv for pair (i, j)\n",
        "                max_CSSijuv = max(max_CSSijuv, CSSijuv)\n",
        "\n",
        "        # Assign max_CSSijuv to CSS_matrix\n",
        "        CSS_matrix[i, j] = max_CSSijuv\n"
      ]
    },
    {
      "cell_type": "code",
      "execution_count": null,
      "id": "190bbf44",
      "metadata": {
        "id": "190bbf44"
      },
      "outputs": [],
      "source": [
        "\n",
        "# Create a DataFrame from the CSS matrix\n",
        "CSS_df = pd.DataFrame(CSS_matrix, index=product_similarity_df.index, columns=product_similarity_df.columns)\n",
        "\n",
        "# Print the CSS matrix\n",
        "print(\"Cross Sold Score (CSS) Matrix:\")\n",
        "print(CSS_df)\n",
        "\n",
        "# Save the DataFrame as a CSV file in C drive\n",
        "CSS_df.to_csv('C:/CSS_matrix.csv', index=False)\n",
        "\n",
        "# Create a download link for the file\n",
        "download_link = FileLink(r'C:/CSS_matrix.csv')\n",
        "\n",
        "# Display the download link\n",
        "download_link"
      ]
    }
  ],
  "metadata": {
    "accelerator": "GPU",
    "colab": {
      "gpuType": "T4",
      "provenance": []
    },
    "kernelspec": {
      "display_name": "Python 3 (ipykernel)",
      "language": "python",
      "name": "python3"
    },
    "language_info": {
      "codemirror_mode": {
        "name": "ipython",
        "version": 3
      },
      "file_extension": ".py",
      "mimetype": "text/x-python",
      "name": "python",
      "nbconvert_exporter": "python",
      "pygments_lexer": "ipython3",
      "version": "3.11.4"
    }
  },
  "nbformat": 4,
  "nbformat_minor": 5
}